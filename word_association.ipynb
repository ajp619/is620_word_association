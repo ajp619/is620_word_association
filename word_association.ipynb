{
 "cells": [
  {
   "cell_type": "markdown",
   "metadata": {},
   "source": [
    "# IS620 Assignment - High Frequency Words:\n",
    "\n",
    "1. Choose a corpus of interest.\n",
    "2. How many total unique words are in the corpus?  \n",
    "(Please feel free to define unique words in any interesting, defensible way).\n",
    "3. Taking the most common words, how many unique words represent half of the total words in the corpus?\n",
    "4. Identify the 200 highest frequency words in this corpus.\n",
    "5. Create a graph that shows the relative frequency of these 200 words.\n",
    "6. Does the observed relative frequency of these words follow Zipf's law? Explain.\n",
    "7. In what ways do you think the frequency of  the words in this corpus differ from \"all words in all corpora.\""
   ]
  },
  {
   "cell_type": "code",
   "execution_count": 88,
   "metadata": {
    "collapsed": true
   },
   "outputs": [],
   "source": [
    "import nltk\n",
    "from nltk.corpus import stopwords\n",
    "import matplotlib.pyplot as plt\n",
    "\n",
    "%matplotlib inline"
   ]
  },
  {
   "cell_type": "markdown",
   "metadata": {},
   "source": [
    "## Choose a corpus of interest"
   ]
  },
  {
   "cell_type": "markdown",
   "metadata": {},
   "source": [
    "The text we will be looking at is the script of the Princess Bride. Let's go ahead and do the following:\n",
    "\n",
    "* read the file from disk\n",
    "* tokenize the text\n",
    "* normalize the text\n",
    "    * Make sure everything is in lower case, since we don't want to distinguish between pirate and Pirate. (this is done with the w.lower())\n",
    "    * get rid of all punctuation (we do this with w.isalpha())"
   ]
  },
  {
   "cell_type": "code",
   "execution_count": 38,
   "metadata": {
    "collapsed": false
   },
   "outputs": [
    {
     "name": "stdout",
     "output_type": "stream",
     "text": [
      "After cleaning we are left with a corpus of 10653 words\n"
     ]
    }
   ],
   "source": [
    "fileName = \"the_princess_bride_script_clean.txt\"\n",
    "with open(fileName, 'r') as f:\n",
    "    raw = f.read()\n",
    "\n",
    "tokens = nltk.word_tokenize(raw)\n",
    "words = [w.lower() for w in tokens if w.isalpha()]\n",
    "print \"After cleaning we are left with a corpus of {} words\".format(len(words))"
   ]
  },
  {
   "cell_type": "markdown",
   "metadata": {},
   "source": [
    "## Unique words\n",
    "\n",
    "Next, we will determine how many unique words we have. What we really want to see are the words that make this text different, so our definition of unique words will not include common words such as {i, me, my, myself, we, ...}, commonly known as stopwords. Conveniently, nltk comes with a list of these words"
   ]
  },
  {
   "cell_type": "code",
   "execution_count": 30,
   "metadata": {
    "collapsed": false
   },
   "outputs": [
    {
     "name": "stdout",
     "output_type": "stream",
     "text": [
      "There are 1722 unique words in this text\n"
     ]
    }
   ],
   "source": [
    "uniqueWords = set(words)\n",
    "uniqueWords = [w for w in uniqueWords if w not in stopwords.words('english')]\n",
    "print \"There are {} unique words in this text\".format(len(uniqueWords))"
   ]
  },
  {
   "cell_type": "markdown",
   "metadata": {},
   "source": [
    "## Half the total corpus"
   ]
  },
  {
   "cell_type": "markdown",
   "metadata": {},
   "source": [
    "If we are going to use our definition of unique words, it only seems fair to also remove the stop words from the corpus."
   ]
  },
  {
   "cell_type": "code",
   "execution_count": 45,
   "metadata": {
    "collapsed": false
   },
   "outputs": [
    {
     "data": {
      "text/plain": [
       "5634"
      ]
     },
     "execution_count": 45,
     "metadata": {},
     "output_type": "execute_result"
    }
   ],
   "source": [
    "wordsNoStop = [w for w in words if w not in stopwords.words('english')]\n",
    "len(wordsNoStop)"
   ]
  },
  {
   "cell_type": "markdown",
   "metadata": {},
   "source": [
    "Now let's see how many unique words we need to make up half the corpus."
   ]
  },
  {
   "cell_type": "code",
   "execution_count": 72,
   "metadata": {
    "collapsed": false
   },
   "outputs": [
    {
     "name": "stdout",
     "output_type": "stream",
     "text": [
      "138 of the most common words make up half the corpus\n"
     ]
    }
   ],
   "source": [
    "# Frequency Distribution\n",
    "fdist = nltk.FreqDist([w for w in words if w in uniqueWords])\n",
    "corpusCount = len(wordsNoStop)\n",
    "\n",
    "cumSum = 0\n",
    "for i, (w, n) in enumerate(fdist.most_common()):\n",
    "    cumSum += n\n",
    "    if cumSum > corpusCount / 2:\n",
    "        numUniqueWords = i\n",
    "        break\n",
    "\n",
    "print \"{} of the most common words make up half the corpus\".format(numUniqueWords)\n"
   ]
  },
  {
   "cell_type": "markdown",
   "metadata": {},
   "source": [
    "## Highest frequency words"
   ]
  },
  {
   "cell_type": "markdown",
   "metadata": {},
   "source": [
    "The 200 highest frequency (unique) words are:"
   ]
  },
  {
   "cell_type": "code",
   "execution_count": 74,
   "metadata": {
    "collapsed": false,
    "scrolled": false
   },
   "outputs": [
    {
     "data": {
      "text/plain": [
       "[('you', 424),\n",
       " ('the', 380),\n",
       " ('i', 374),\n",
       " ('to', 213),\n",
       " ('a', 181),\n",
       " ('and', 171),\n",
       " ('inigo', 149),\n",
       " ('that', 144),\n",
       " ('it', 140),\n",
       " ('is', 134),\n",
       " ('westley', 117),\n",
       " ('of', 115),\n",
       " ('buttercup', 103),\n",
       " ('roberts', 102),\n",
       " ('fezzik', 96),\n",
       " ('he', 95),\n",
       " ('in', 93),\n",
       " ('humperdinck', 93),\n",
       " ('me', 92),\n",
       " ('do', 87),\n",
       " ('pirate', 87),\n",
       " ('not', 87),\n",
       " ('my', 85),\n",
       " ('dread', 83),\n",
       " ('vizzini', 76),\n",
       " ('your', 75),\n",
       " ('what', 74),\n",
       " ('for', 70),\n",
       " ('we', 69),\n",
       " ('be', 69),\n",
       " ('are', 68),\n",
       " ('so', 67),\n",
       " ('was', 65),\n",
       " ('will', 65),\n",
       " ('have', 64),\n",
       " ('this', 57),\n",
       " ('on', 56),\n",
       " ('but', 54),\n",
       " ('all', 51),\n",
       " ('him', 51),\n",
       " ('scene', 50),\n",
       " ('no', 49),\n",
       " ('as', 46),\n",
       " ('there', 44),\n",
       " ('grandfather', 43),\n",
       " ('can', 42),\n",
       " ('with', 40),\n",
       " ('miracle', 39),\n",
       " ('her', 39),\n",
       " ('grandson', 38),\n",
       " ('if', 37),\n",
       " ('his', 37),\n",
       " ('did', 35),\n",
       " ('max', 35),\n",
       " ('now', 35),\n",
       " ('rugen', 34),\n",
       " ('think', 33),\n",
       " ('love', 32),\n",
       " ('at', 32),\n",
       " ('would', 31),\n",
       " ('man', 31),\n",
       " ('well', 31),\n",
       " ('never', 30),\n",
       " ('where', 29),\n",
       " ('count', 29),\n",
       " ('one', 28),\n",
       " ('right', 28),\n",
       " ('when', 28),\n",
       " ('were', 28),\n",
       " ('she', 28),\n",
       " ('just', 26),\n",
       " ('who', 26),\n",
       " ('why', 26),\n",
       " ('know', 26),\n",
       " ('dead', 25),\n",
       " ('up', 25),\n",
       " ('only', 24),\n",
       " ('then', 23),\n",
       " ('they', 23),\n",
       " ('father', 23),\n",
       " ('ha', 23),\n",
       " ('get', 22),\n",
       " ('am', 22),\n",
       " ('could', 22),\n",
       " ('by', 21),\n",
       " ('from', 21),\n",
       " ('want', 20),\n",
       " ('very', 20),\n",
       " ('us', 19),\n",
       " ('pause', 19),\n",
       " ('like', 19),\n",
       " ('here', 18),\n",
       " ('time', 18),\n",
       " ('come', 18),\n",
       " ('mean', 17),\n",
       " ('has', 17),\n",
       " ('down', 17),\n",
       " ('head', 17),\n",
       " ('again', 17),\n",
       " ('good', 17),\n",
       " ('out', 17),\n",
       " ('yellin', 17),\n",
       " ('an', 17),\n",
       " ('valerie', 17),\n",
       " ('ever', 16),\n",
       " ('must', 16),\n",
       " ('how', 16),\n",
       " ('got', 16),\n",
       " ('been', 16),\n",
       " ('yes', 16),\n",
       " ('years', 16),\n",
       " ('say', 16),\n",
       " ('oh', 16),\n",
       " ('find', 16),\n",
       " ('please', 16),\n",
       " ('go', 16),\n",
       " ('true', 15),\n",
       " ('wait', 15),\n",
       " ('thing', 15),\n",
       " ('kill', 15),\n",
       " ('back', 15),\n",
       " ('after', 14),\n",
       " ('sword', 14),\n",
       " ('more', 14),\n",
       " ('fire', 14),\n",
       " ('prince', 14),\n",
       " ('into', 14),\n",
       " ('once', 14),\n",
       " ('our', 14),\n",
       " ('does', 14),\n",
       " ('too', 13),\n",
       " ('swamp', 13),\n",
       " ('said', 13),\n",
       " ('life', 13),\n",
       " ('make', 13),\n",
       " ('die', 13),\n",
       " ('thank', 13),\n",
       " ('name', 13),\n",
       " ('always', 13),\n",
       " ('something', 13),\n",
       " ('had', 12),\n",
       " ('people', 12),\n",
       " ('way', 12),\n",
       " ('ship', 12),\n",
       " ('or', 12),\n",
       " ('brute', 12),\n",
       " ('put', 12),\n",
       " ('see', 12),\n",
       " ('wedding', 12),\n",
       " ('albino', 12),\n",
       " ('let', 12),\n",
       " ('day', 12),\n",
       " ('need', 12),\n",
       " ('much', 11),\n",
       " ('first', 11),\n",
       " ('okay', 11),\n",
       " ('castle', 11),\n",
       " ('king', 11),\n",
       " ('nothing', 11),\n",
       " ('gilder', 11),\n",
       " ('look', 11),\n",
       " ('princess', 11),\n",
       " ('because', 11),\n",
       " ('tell', 10),\n",
       " ('work', 10),\n",
       " ('over', 10),\n",
       " ('queen', 10),\n",
       " ('hello', 10),\n",
       " ('wo', 10),\n",
       " ('left', 10),\n",
       " ('little', 10),\n",
       " ('killed', 10),\n",
       " ('than', 10),\n",
       " ('read', 10),\n",
       " ('front', 10),\n",
       " ('florin', 10),\n",
       " ('means', 10),\n",
       " ('pit', 10),\n",
       " ('give', 9),\n",
       " ('gate', 9),\n",
       " ('away', 9),\n",
       " ('men', 9),\n",
       " ('despair', 9),\n",
       " ('yeah', 9),\n",
       " ('outside', 9),\n",
       " ('ca', 9),\n",
       " ('highness', 9),\n",
       " ('help', 9),\n",
       " ('marry', 9),\n",
       " ('great', 9),\n",
       " ('farm', 9),\n",
       " ('about', 9),\n",
       " ('wish', 9),\n",
       " ('four', 8),\n",
       " ('every', 8),\n",
       " ('word', 8),\n",
       " ('wine', 8),\n",
       " ('before', 8),\n",
       " ('each', 8),\n",
       " ('mother', 8)]"
      ]
     },
     "execution_count": 74,
     "metadata": {},
     "output_type": "execute_result"
    }
   ],
   "source": [
    "fdistAll = nltk.FreqDist(words)\n",
    "fdistAll.most_common()[:200]"
   ]
  },
  {
   "cell_type": "markdown",
   "metadata": {},
   "source": [
    "## Relative frequency plot"
   ]
  },
  {
   "cell_type": "code",
   "execution_count": 100,
   "metadata": {
    "collapsed": false
   },
   "outputs": [
    {
     "data": {
      "text/plain": [
       "<matplotlib.text.Text at 0x1a28a9b0>"
      ]
     },
     "execution_count": 100,
     "metadata": {},
     "output_type": "execute_result"
    },
    {
     "data": {
      "image/png": "[encoded data removed]",
      "text/plain": [
       "<matplotlib.figure.Figure at 0x19090080>"
      ]
     },
     "metadata": {},
     "output_type": "display_data"
    }
   ],
   "source": [
    "maxCount = fdistAll.most_common()[0][1]\n",
    "relFreq = [1.0 * i[1] / maxCount for i in fdistAll.most_common()]\n",
    "\n",
    "fig, ax = plt.subplots(figsize=[12, 4])\n",
    "ax.plot(relFreq[:200])\n",
    "ax.set_xscale('log')\n",
    "ax.set_yscale('log')\n",
    "ax.set_xlabel(\"Word Rank (log scale)\")\n",
    "ax.set_ylabel(\"Relative Frequency (log scale)\")\n",
    "ax.set_title(\"Relative Frequency vs Work Rank\")"
   ]
  },
  {
   "cell_type": "markdown",
   "metadata": {},
   "source": [
    "## Zipf's law"
   ]
  },
  {
   "cell_type": "code",
   "execution_count": 135,
   "metadata": {
    "collapsed": false
   },
   "outputs": [
    {
     "data": {
      "text/plain": [
       "<matplotlib.legend.Legend at 0x23dc2b38>"
      ]
     },
     "execution_count": 135,
     "metadata": {},
     "output_type": "execute_result"
    },
    {
     "data": {
      "image/png": "[encoded data removed]",
      "text/plain": [
       "<matplotlib.figure.Figure at 0x20253278>"
      ]
     },
     "metadata": {},
     "output_type": "display_data"
    }
   ],
   "source": [
    "b = 1\n",
    "x = range(1, 201)\n",
    "z = [1.0/i**b for i in x]\n",
    "\n",
    "fig, ax = plt.subplots(figsize=[12, 4])\n",
    "ax.plot(x, relFreq[:200])\n",
    "ax.plot(x, z, color='red')\n",
    "ax.set_xscale('log')\n",
    "ax.set_yscale('log')\n",
    "ax.set_xlabel(\"Word Rank (log scale)\")\n",
    "ax.set_ylabel(\"Relative Frequency (log scale)\")\n",
    "ax.set_title(\"Relative Frequency vs Work Rank\")\n",
    "ax.legend(['actual', 'Zipf'], loc='upper right')"
   ]
  },
  {
   "cell_type": "markdown",
   "metadata": {},
   "source": [
    "We can see from the plot above that our particular data set does not exactly follow Zipf's law."
   ]
  },
  {
   "cell_type": "markdown",
   "metadata": {},
   "source": [
    "## All words in all corpora"
   ]
  },
  {
   "cell_type": "markdown",
   "metadata": {},
   "source": [
    "The frequency of the words in this corpus differ from the frequency of \"all words in all corpora\" in a way that depends on the topic of the specific text. This is the reasoning behind some of the topic modeling techniques such as LDA. By looking at the distribution of words in a document, we should be able to pick out the topics being discussed."
   ]
  }
 ],
 "metadata": {
  "kernelspec": {
   "display_name": "Python 2",
   "language": "python",
   "name": "python2"
  },
  "language_info": {
   "codemirror_mode": {
    "name": "ipython",
    "version": 2
   },
   "file_extension": ".py",
   "mimetype": "text/x-python",
   "name": "python",
   "nbconvert_exporter": "python",
   "pygments_lexer": "ipython2",
   "version": "2.7.9"
  }
 },
 "nbformat": 4,
 "nbformat_minor": 0
}
